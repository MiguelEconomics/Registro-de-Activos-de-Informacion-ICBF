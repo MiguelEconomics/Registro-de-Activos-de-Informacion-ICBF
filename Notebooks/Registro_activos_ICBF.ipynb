{
  "cells": [
    {
      "cell_type": "markdown",
      "metadata": {},
      "source": [
        "![Grupo de Analítica Institucional ICBF](https://github.com/MiguelEconomics/Registro-de-Activos-de-Informacion-ICBF/blob/main/Logos/Header.png?raw=true)"
      ]
    },
    {
      "cell_type": "markdown",
      "metadata": {
        "id": "fZQ03tUMN1Dr"
      },
      "source": [
        " ## Análisis Exploratorio de Datos (EDA) sobre los activos de información del ICBF"
      ]
    },
    {
      "cell_type": "markdown",
      "metadata": {
        "id": "1hqtIwptPK2n"
      },
      "source": [
        "Este estudio realiza un Análisis Exploratorio de Datos (EDA) en los activos de información del Instituto Colombiano de Bienestar Familiar (ICBF) para identificar conjuntos de datos susceptibles de ser convertidos en datos públicos disponibles en la plataforma Datos Abiertos. El objetivo es examinar la estructura, características y patrones de los datos del ICBF para seleccionar aquellos adecuados para su publicación. Esta iniciativa promueve la transparencia, participación ciudadana y acceso a la información, fortaleciendo el conocimiento y desarrollo de soluciones innovadoras en beneficio de la sociedad y la mejora de los servicios del ICBF."
      ]
    },
    {
      "cell_type": "markdown",
      "metadata": {
        "id": "BKq4s0RSQJUr"
      },
      "source": [
        "### Importamos las librerías necesarias para el análisis"
      ]
    },
    {
      "cell_type": "code",
      "execution_count": 1,
      "metadata": {
        "id": "WOHWRk-3b_Ve"
      },
      "outputs": [],
      "source": [
        "import matplotlib as mpl\n",
        "import matplotlib.ticker as mtick\n",
        "import matplotlib.pyplot as plt\n",
        "import numpy as np\n",
        "import pandas as pd"
      ]
    },
    {
      "cell_type": "markdown",
      "metadata": {
        "id": "3bi1Pyu0QR3u"
      },
      "source": [
        "### Base de datos\n",
        "\n",
        "La base de datos \"Registros de Activos de Información\" del ICBF es una colección de conjuntos de datos y documentos generados por el Instituto Colombiano de Bienestar Familiar. Estos registros abarcan programas, servicios, datos demográficos, informes y políticas relevantes. Es posible acceder a esta base de datos en el siguiente enlace: https://www.icbf.gov.co/711-registros-de-activos-de-informacion.\n",
        "\n",
        "### Cargamos la base de datos"
      ]
    },
    {
      "cell_type": "code",
      "execution_count": 2,
      "metadata": {
        "id": "hQ4BM89ocHgf"
      },
      "outputs": [],
      "source": [
        "datos = pd.read_excel(r\"..\\Datos\\2._registro_de_activos_de_informacion_2022_v2.xlsm\")"
      ]
    },
    {
      "cell_type": "code",
      "execution_count": 3,
      "metadata": {
        "colab": {
          "base_uri": "https://localhost:8080/",
          "height": 791
        },
        "id": "zAhcCbSHRP6v",
        "outputId": "d21677ca-58ce-427c-8e64-8c021ecdf449"
      },
      "outputs": [
        {
          "data": {
            "text/html": [
              "<div>\n",
              "<style scoped>\n",
              "    .dataframe tbody tr th:only-of-type {\n",
              "        vertical-align: middle;\n",
              "    }\n",
              "\n",
              "    .dataframe tbody tr th {\n",
              "        vertical-align: top;\n",
              "    }\n",
              "\n",
              "    .dataframe thead th {\n",
              "        text-align: right;\n",
              "    }\n",
              "</style>\n",
              "<table border=\"1\" class=\"dataframe\">\n",
              "  <thead>\n",
              "    <tr style=\"text-align: right;\">\n",
              "      <th></th>\n",
              "      <th>Nombre o título de categoría de Información \\n(Término con que se da a conocer el nombre o asunto de la información)</th>\n",
              "      <th>Descripción\\n (Define brevemente de qué se trata la información)</th>\n",
              "      <th>Clasificación</th>\n",
              "      <th>Idioma \\n(Idioma, lengua o dialecto en que se encuentra el activo)</th>\n",
              "      <th>Medio de Conservación y/o soporte \\n(Electrónico\\nFisico/Electrónico)</th>\n",
              "      <th>Formato \\n(la forma, tamaño o modo en la que se presenta la información: hoja de cálculo, imagen, audio, video, documento de texto</th>\n",
              "      <th>Información publicada o disponible \\n(señalar dónde está publicada y/o dónde se puede consultar o solicitar)</th>\n",
              "      <th>Proceso</th>\n",
              "    </tr>\n",
              "  </thead>\n",
              "  <tbody>\n",
              "    <tr>\n",
              "      <th>0</th>\n",
              "      <td>Actas Dirección de Abastecimiento</td>\n",
              "      <td>Corresponde a la documentación relacionada con...</td>\n",
              "      <td>Pública</td>\n",
              "      <td>ESPAÑOL</td>\n",
              "      <td>FÍSICO-ELECTRÓNICO</td>\n",
              "      <td>DOCUMENTO DE TEXTO</td>\n",
              "      <td>Dirección de Abastecimiento</td>\n",
              "      <td>ADQUISICIÓN_DE_BIENES_Y_SERVICIOS</td>\n",
              "    </tr>\n",
              "    <tr>\n",
              "      <th>1</th>\n",
              "      <td>Anexo Alimentos</td>\n",
              "      <td>Documento donde se detallan las característica...</td>\n",
              "      <td>Pública</td>\n",
              "      <td>ESPAÑOL</td>\n",
              "      <td>ELECTRÓNICO</td>\n",
              "      <td>DOCUMENTO DE TEXTO</td>\n",
              "      <td>Dirección de Abastecimiento</td>\n",
              "      <td>ADQUISICIÓN_DE_BIENES_Y_SERVICIOS</td>\n",
              "    </tr>\n",
              "    <tr>\n",
              "      <th>2</th>\n",
              "      <td>Conceptos Dirección de Abastecimiento</td>\n",
              "      <td>Documento técnico emitido para dar el concepto...</td>\n",
              "      <td>Pública</td>\n",
              "      <td>ESPAÑOL</td>\n",
              "      <td>FÍSICO-ELECTRÓNICO</td>\n",
              "      <td>DOCUMENTO DE TEXTO</td>\n",
              "      <td>Dirección de Abastecimiento</td>\n",
              "      <td>ADQUISICIÓN_DE_BIENES_Y_SERVICIOS</td>\n",
              "    </tr>\n",
              "    <tr>\n",
              "      <th>3</th>\n",
              "      <td>Contratos Estatales Dirección de Abastecimiento</td>\n",
              "      <td>Corresponde a los expedientes del contrato cel...</td>\n",
              "      <td>Clasificada</td>\n",
              "      <td>ESPAÑOL</td>\n",
              "      <td>FÍSICO-ELECTRÓNICO</td>\n",
              "      <td>DOCUMENTO DE TEXTO</td>\n",
              "      <td>Dirección de Abastecimiento</td>\n",
              "      <td>ADQUISICIÓN_DE_BIENES_Y_SERVICIOS</td>\n",
              "    </tr>\n",
              "    <tr>\n",
              "      <th>4</th>\n",
              "      <td>Estudio de Sector para Mínima Cuantía o Cont...</td>\n",
              "      <td>Documento que contiene la información del estu...</td>\n",
              "      <td>Pública</td>\n",
              "      <td>ESPAÑOL</td>\n",
              "      <td>ELECTRÓNICO</td>\n",
              "      <td>DOCUMENTO DE TEXTO</td>\n",
              "      <td>Dirección de Abastecimiento</td>\n",
              "      <td>ADQUISICIÓN_DE_BIENES_Y_SERVICIOS</td>\n",
              "    </tr>\n",
              "  </tbody>\n",
              "</table>\n",
              "</div>"
            ],
            "text/plain": [
              "  Nombre o título de categoría de Información \\n(Término con que se da a conocer el nombre o asunto de la información)  \\\n",
              "0                  Actas Dirección de Abastecimiento                                                                     \n",
              "1                                    Anexo Alimentos                                                                     \n",
              "2              Conceptos Dirección de Abastecimiento                                                                     \n",
              "3    Contratos Estatales Dirección de Abastecimiento                                                                     \n",
              "4    Estudio de Sector para Mínima Cuantía o Cont...                                                                     \n",
              "\n",
              "  Descripción\\n (Define brevemente de qué se trata la información)  \\\n",
              "0  Corresponde a la documentación relacionada con...                 \n",
              "1  Documento donde se detallan las característica...                 \n",
              "2  Documento técnico emitido para dar el concepto...                 \n",
              "3  Corresponde a los expedientes del contrato cel...                 \n",
              "4  Documento que contiene la información del estu...                 \n",
              "\n",
              "  Clasificación  \\\n",
              "0       Pública   \n",
              "1       Pública   \n",
              "2       Pública   \n",
              "3   Clasificada   \n",
              "4       Pública   \n",
              "\n",
              "  Idioma \\n(Idioma, lengua o dialecto en que se encuentra el activo)  \\\n",
              "0                                            ESPAÑOL                   \n",
              "1                                            ESPAÑOL                   \n",
              "2                                            ESPAÑOL                   \n",
              "3                                            ESPAÑOL                   \n",
              "4                                            ESPAÑOL                   \n",
              "\n",
              "  Medio de Conservación y/o soporte \\n(Electrónico\\nFisico/Electrónico)  \\\n",
              "0                                 FÍSICO-ELECTRÓNICO                      \n",
              "1                                        ELECTRÓNICO                      \n",
              "2                                 FÍSICO-ELECTRÓNICO                      \n",
              "3                                 FÍSICO-ELECTRÓNICO                      \n",
              "4                                        ELECTRÓNICO                      \n",
              "\n",
              "  Formato \\n(la forma, tamaño o modo en la que se presenta la información: hoja de cálculo, imagen, audio, video, documento de texto  \\\n",
              "0                                 DOCUMENTO DE TEXTO                                                                                   \n",
              "1                                 DOCUMENTO DE TEXTO                                                                                   \n",
              "2                                 DOCUMENTO DE TEXTO                                                                                   \n",
              "3                                 DOCUMENTO DE TEXTO                                                                                   \n",
              "4                                 DOCUMENTO DE TEXTO                                                                                   \n",
              "\n",
              "  Información publicada o disponible \\n(señalar dónde está publicada y/o dónde se puede consultar o solicitar)  \\\n",
              "0                        Dirección de Abastecimiento                                                             \n",
              "1                        Dirección de Abastecimiento                                                             \n",
              "2                        Dirección de Abastecimiento                                                             \n",
              "3                        Dirección de Abastecimiento                                                             \n",
              "4                        Dirección de Abastecimiento                                                             \n",
              "\n",
              "                             Proceso  \n",
              "0  ADQUISICIÓN_DE_BIENES_Y_SERVICIOS  \n",
              "1  ADQUISICIÓN_DE_BIENES_Y_SERVICIOS  \n",
              "2  ADQUISICIÓN_DE_BIENES_Y_SERVICIOS  \n",
              "3  ADQUISICIÓN_DE_BIENES_Y_SERVICIOS  \n",
              "4  ADQUISICIÓN_DE_BIENES_Y_SERVICIOS  "
            ]
          },
          "execution_count": 3,
          "metadata": {},
          "output_type": "execute_result"
        }
      ],
      "source": [
        "datos.head()"
      ]
    },
    {
      "cell_type": "markdown",
      "metadata": {
        "id": "K4Kx-VLKRh5h"
      },
      "source": [
        "### Limpieza de datos\n",
        "\n",
        "Con el objetivo de identificar conjuntos de datos que puedan convertirse en datos abiertos, nos centraremos en las columnas 'Clasificación' y 'Medio de Conservación y/o Soporte (Electrónico/Físico-Electrónico)'. Para facilitar la manipulación de los datos, se modificará el nombre de esta última columna.\n",
        "\n",
        "Con el fin de evitar problemas relacionados con las etiquetas de los datos, se aplicarán los métodos strip() y title() para eliminar espacios innecesarios y estandarizar las mayúsculas en las cadenas de texto.\n",
        "\n"
      ]
    },
    {
      "cell_type": "code",
      "execution_count": 4,
      "metadata": {
        "id": "uk3gpBn9cJjN"
      },
      "outputs": [],
      "source": [
        "datos.rename(\n",
        "    columns={'Medio de Conservación y/o soporte \\n(Electrónico\\nFisico/Electrónico)': 'Medio de Conservación'},\n",
        "    inplace=True)\n",
        "\n",
        "datos[['Clasificación', 'Medio de Conservación']] = datos[['Clasificación', 'Medio de Conservación']].apply(lambda x: x.str.strip().str.title())\n"
      ]
    },
    {
      "cell_type": "markdown",
      "metadata": {
        "id": "URLCcSnsUwvu"
      },
      "source": [
        "### Análisis\n",
        "\n",
        "Según el Registro de Activos de Información del ICBF, se han identificado un total de 900 activos. De estos, el **73.11% (658)** corresponden a la categoría de **información pública**."
      ]
    },
    {
      "cell_type": "code",
      "execution_count": 5,
      "metadata": {
        "colab": {
          "base_uri": "https://localhost:8080/"
        },
        "id": "kU4dqQS4UMVk",
        "outputId": "6774cb00-b296-470e-cc82-6950267c9c55"
      },
      "outputs": [
        {
          "data": {
            "text/plain": [
              "(900,\n",
              " Clasificación\n",
              " Pública        658\n",
              " Clasificada    185\n",
              " Reservada       57\n",
              " Name: count, dtype: int64)"
            ]
          },
          "execution_count": 5,
          "metadata": {},
          "output_type": "execute_result"
        }
      ],
      "source": [
        "df = datos.copy()\n",
        "categoria_counts = df['Clasificación'].value_counts()\n",
        "\n",
        "len(df), categoria_counts"
      ]
    },
    {
      "cell_type": "code",
      "execution_count": 6,
      "metadata": {
        "colab": {
          "base_uri": "https://localhost:8080/",
          "height": 143
        },
        "id": "6BEpp7aMYHX8",
        "outputId": "1b1b8e70-1d54-4684-dc17-e18114bc6046"
      },
      "outputs": [
        {
          "data": {
            "text/html": [
              "<div>\n",
              "<style scoped>\n",
              "    .dataframe tbody tr th:only-of-type {\n",
              "        vertical-align: middle;\n",
              "    }\n",
              "\n",
              "    .dataframe tbody tr th {\n",
              "        vertical-align: top;\n",
              "    }\n",
              "\n",
              "    .dataframe thead th {\n",
              "        text-align: right;\n",
              "    }\n",
              "</style>\n",
              "<table border=\"1\" class=\"dataframe\">\n",
              "  <thead>\n",
              "    <tr style=\"text-align: right;\">\n",
              "      <th></th>\n",
              "      <th>count</th>\n",
              "      <th>%</th>\n",
              "    </tr>\n",
              "    <tr>\n",
              "      <th>Clasificación</th>\n",
              "      <th></th>\n",
              "      <th></th>\n",
              "    </tr>\n",
              "  </thead>\n",
              "  <tbody>\n",
              "    <tr>\n",
              "      <th>Pública</th>\n",
              "      <td>658</td>\n",
              "      <td>73.11%</td>\n",
              "    </tr>\n",
              "    <tr>\n",
              "      <th>Clasificada</th>\n",
              "      <td>185</td>\n",
              "      <td>20.56%</td>\n",
              "    </tr>\n",
              "    <tr>\n",
              "      <th>Reservada</th>\n",
              "      <td>57</td>\n",
              "      <td>6.33%</td>\n",
              "    </tr>\n",
              "  </tbody>\n",
              "</table>\n",
              "</div>"
            ],
            "text/plain": [
              "               count       %\n",
              "Clasificación               \n",
              "Pública          658  73.11%\n",
              "Clasificada      185  20.56%\n",
              "Reservada         57   6.33%"
            ]
          },
          "execution_count": 6,
          "metadata": {},
          "output_type": "execute_result"
        }
      ],
      "source": [
        "categoria_counts = categoria_counts.to_frame()\n",
        "categoria_counts['%'] = (categoria_counts / categoria_counts.sum()) * 100\n",
        "categoria_counts['%'] = categoria_counts['%'].apply(lambda x: \"{:.2f}%\".format(x))\n",
        "categoria_counts"
      ]
    },
    {
      "cell_type": "markdown",
      "metadata": {
        "id": "uW4_NPSnVsFW"
      },
      "source": [
        "### Conjutos de datos con carácter público"
      ]
    },
    {
      "cell_type": "code",
      "execution_count": 7,
      "metadata": {
        "colab": {
          "base_uri": "https://localhost:8080/",
          "height": 392
        },
        "id": "xZvgMYa7eTPE",
        "outputId": "5e6aa070-c782-46e9-b974-63c5f9e154ba"
      },
      "outputs": [
        {
          "data": {
            "image/png": "[encoded data removed]",
            "text/plain": [
              "<Figure size 800x400 with 1 Axes>"
            ]
          },
          "metadata": {},
          "output_type": "display_data"
        }
      ],
      "source": [
        "# Establecer el estilo 'ggplot'\n",
        "plt.style.use('ggplot')\n",
        "\n",
        "# Definir el orden de las barras\n",
        "categoria_counts = categoria_counts.sort_values(by='count', ascending=True)\n",
        "\n",
        "# Configurar el color de fondo del gráfico en blanco\n",
        "plt.rcParams['axes.facecolor'] = 'white'\n",
        "\n",
        "# Ajustar el tamaño del gráfico\n",
        "fig, ax = plt.subplots(figsize=(8, 4))\n",
        "\n",
        "# Asignar colores a las barras\n",
        "colors = ['#78be21' if categoria == 'Pública' else 'lightgray' for categoria in categoria_counts.index]\n",
        "\n",
        "# Crear gráfica de barras horizontales\n",
        "ax.barh(categoria_counts.index, categoria_counts['count'].values, color=colors)\n",
        "\n",
        "# Mostrar los ejes X e Y\n",
        "ax.spines['top'].set_visible(False)\n",
        "ax.spines['right'].set_visible(False)\n",
        "ax.spines['bottom'].set_visible(True)\n",
        "ax.spines['left'].set_visible(True)\n",
        "\n",
        "# Cambiar el color de los ejes X e Y a gris\n",
        "ax.spines['bottom'].set_color('gray')\n",
        "ax.spines['left'].set_color('gray')\n",
        "\n",
        "# Colocar etiquetas numéricas fuera de las barras\n",
        "for y, x in enumerate(categoria_counts['count'].values):\n",
        "    ax.annotate(str(\"{:,}\".format(x)),\n",
        "                xy=(x, y),\n",
        "                xytext=(x + 10, y),\n",
        "                va='center',\n",
        "                ha=\"left\",\n",
        "                fontstyle=\"italic\",\n",
        "                color=\"black\",\n",
        "                size=10)\n",
        "\n",
        "# Etiqueta eje X y título\n",
        "ax.set_xlabel('Cantidad')\n",
        "ax.set_title('Tipos de conjuntos de información en los activos del ICBF', y=1.1)\n",
        "\n",
        "plt.savefig(\"..\\Visualizaciones\\Categoria_Activos.png\", dpi=300, bbox_inches='tight')\n",
        "\n",
        "# Mostrar el gráfico\n",
        "plt.show()\n"
      ]
    },
    {
      "cell_type": "markdown",
      "metadata": {
        "id": "2oyiz30TbKkg"
      },
      "source": [
        "### Medios de conservación"
      ]
    },
    {
      "cell_type": "code",
      "execution_count": 8,
      "metadata": {
        "colab": {
          "base_uri": "https://localhost:8080/",
          "height": 363
        },
        "id": "_OhYp3zEiAni",
        "outputId": "918cc940-3c35-4743-9b1d-a78a8391e2c7"
      },
      "outputs": [
        {
          "data": {
            "text/html": [
              "<div>\n",
              "<style scoped>\n",
              "    .dataframe tbody tr th:only-of-type {\n",
              "        vertical-align: middle;\n",
              "    }\n",
              "\n",
              "    .dataframe tbody tr th {\n",
              "        vertical-align: top;\n",
              "    }\n",
              "\n",
              "    .dataframe thead th {\n",
              "        text-align: right;\n",
              "    }\n",
              "</style>\n",
              "<table border=\"1\" class=\"dataframe\">\n",
              "  <thead>\n",
              "    <tr style=\"text-align: right;\">\n",
              "      <th></th>\n",
              "      <th></th>\n",
              "      <th>count</th>\n",
              "      <th>%</th>\n",
              "    </tr>\n",
              "    <tr>\n",
              "      <th>Clasificación</th>\n",
              "      <th>Medio de Conservación</th>\n",
              "      <th></th>\n",
              "      <th></th>\n",
              "    </tr>\n",
              "  </thead>\n",
              "  <tbody>\n",
              "    <tr>\n",
              "      <th rowspan=\"3\" valign=\"top\">Clasificada</th>\n",
              "      <th>Físico-Electrónico</th>\n",
              "      <td>107</td>\n",
              "      <td>11.89%</td>\n",
              "    </tr>\n",
              "    <tr>\n",
              "      <th>Electrónico</th>\n",
              "      <td>60</td>\n",
              "      <td>6.67%</td>\n",
              "    </tr>\n",
              "    <tr>\n",
              "      <th>Físico</th>\n",
              "      <td>18</td>\n",
              "      <td>2.00%</td>\n",
              "    </tr>\n",
              "    <tr>\n",
              "      <th rowspan=\"3\" valign=\"top\">Pública</th>\n",
              "      <th>Físico-Electrónico</th>\n",
              "      <td>335</td>\n",
              "      <td>37.22%</td>\n",
              "    </tr>\n",
              "    <tr>\n",
              "      <th>Electrónico</th>\n",
              "      <td>278</td>\n",
              "      <td>30.89%</td>\n",
              "    </tr>\n",
              "    <tr>\n",
              "      <th>Físico</th>\n",
              "      <td>45</td>\n",
              "      <td>5.00%</td>\n",
              "    </tr>\n",
              "    <tr>\n",
              "      <th rowspan=\"3\" valign=\"top\">Reservada</th>\n",
              "      <th>Físico-Electrónico</th>\n",
              "      <td>33</td>\n",
              "      <td>3.67%</td>\n",
              "    </tr>\n",
              "    <tr>\n",
              "      <th>Electrónico</th>\n",
              "      <td>18</td>\n",
              "      <td>2.00%</td>\n",
              "    </tr>\n",
              "    <tr>\n",
              "      <th>Físico</th>\n",
              "      <td>6</td>\n",
              "      <td>0.67%</td>\n",
              "    </tr>\n",
              "  </tbody>\n",
              "</table>\n",
              "</div>"
            ],
            "text/plain": [
              "                                     count       %\n",
              "Clasificación Medio de Conservación               \n",
              "Clasificada   Físico-Electrónico       107  11.89%\n",
              "              Electrónico               60   6.67%\n",
              "              Físico                    18   2.00%\n",
              "Pública       Físico-Electrónico       335  37.22%\n",
              "              Electrónico              278  30.89%\n",
              "              Físico                    45   5.00%\n",
              "Reservada     Físico-Electrónico        33   3.67%\n",
              "              Electrónico               18   2.00%\n",
              "              Físico                     6   0.67%"
            ]
          },
          "execution_count": 8,
          "metadata": {},
          "output_type": "execute_result"
        }
      ],
      "source": [
        "medio_conservacion = df.groupby('Clasificación')['Medio de Conservación'].value_counts().to_frame()\n",
        "medio_conservacion['%'] = (medio_conservacion / medio_conservacion.sum()) * 100\n",
        "medio_conservacion['%'] = medio_conservacion['%'].apply(lambda x: \"{:.2f}%\".format(x))\n",
        "medio_conservacion"
      ]
    },
    {
      "cell_type": "markdown",
      "metadata": {
        "id": "o7zUSBjTfZ45"
      },
      "source": [
        "### Medios de conservación de los conjuntos públicos"
      ]
    },
    {
      "cell_type": "markdown",
      "metadata": {
        "id": "CnVeUPu7mpEY"
      },
      "source": [
        "Una vez identificados los conjuntos de datos que no contienen información sensible, se procede a analizar cuáles de estos datos pueden ser compartidos con el público en general a través de medios electrónicos."
      ]
    },
    {
      "cell_type": "code",
      "execution_count": 9,
      "metadata": {
        "colab": {
          "base_uri": "https://localhost:8080/",
          "height": 175
        },
        "id": "oiQgb0Wkfi1c",
        "outputId": "d947b8bb-20d5-4af1-99ee-924d51288b3a"
      },
      "outputs": [
        {
          "data": {
            "text/html": [
              "<div>\n",
              "<style scoped>\n",
              "    .dataframe tbody tr th:only-of-type {\n",
              "        vertical-align: middle;\n",
              "    }\n",
              "\n",
              "    .dataframe tbody tr th {\n",
              "        vertical-align: top;\n",
              "    }\n",
              "\n",
              "    .dataframe thead th {\n",
              "        text-align: right;\n",
              "    }\n",
              "</style>\n",
              "<table border=\"1\" class=\"dataframe\">\n",
              "  <thead>\n",
              "    <tr style=\"text-align: right;\">\n",
              "      <th></th>\n",
              "      <th>count</th>\n",
              "      <th>%</th>\n",
              "    </tr>\n",
              "    <tr>\n",
              "      <th>Medio de Conservación</th>\n",
              "      <th></th>\n",
              "      <th></th>\n",
              "    </tr>\n",
              "  </thead>\n",
              "  <tbody>\n",
              "    <tr>\n",
              "      <th>Físico-Electrónico</th>\n",
              "      <td>335</td>\n",
              "      <td>50.91%</td>\n",
              "    </tr>\n",
              "    <tr>\n",
              "      <th>Electrónico</th>\n",
              "      <td>278</td>\n",
              "      <td>42.25%</td>\n",
              "    </tr>\n",
              "    <tr>\n",
              "      <th>Físico</th>\n",
              "      <td>45</td>\n",
              "      <td>6.84%</td>\n",
              "    </tr>\n",
              "  </tbody>\n",
              "</table>\n",
              "</div>"
            ],
            "text/plain": [
              "                       count       %\n",
              "Medio de Conservación               \n",
              "Físico-Electrónico       335  50.91%\n",
              "Electrónico              278  42.25%\n",
              "Físico                    45   6.84%"
            ]
          },
          "execution_count": 9,
          "metadata": {},
          "output_type": "execute_result"
        }
      ],
      "source": [
        "medio_publica = medio_conservacion.loc['Pública'].copy()\n",
        "medio_publica['%'] = (medio_publica['count'] / medio_publica['count'].sum()) * 100\n",
        "medio_publica['%'] = medio_publica['%'].apply(lambda x: \"{:.2f}%\".format(x))\n",
        "medio_publica\n"
      ]
    },
    {
      "cell_type": "code",
      "execution_count": 12,
      "metadata": {
        "colab": {
          "base_uri": "https://localhost:8080/",
          "height": 433
        },
        "id": "ycRq0woFIOvc",
        "outputId": "eeb74b70-6bd9-4fe3-b850-e6458caa68da"
      },
      "outputs": [
        {
          "data": {
            "image/png": "[encoded data removed]",
            "text/plain": [
              "<Figure size 640x480 with 1 Axes>"
            ]
          },
          "metadata": {},
          "output_type": "display_data"
        }
      ],
      "source": [
        "# Selección de datos\n",
        "categorias = medio_publica.index.get_level_values(0).unique()\n",
        "valores = medio_publica['count'].values.flatten()\n",
        "\n",
        "# Colores de las barras\n",
        "colores = ['lightgray' if c == 'Físico' else '#78be21' for c in categorias]\n",
        "\n",
        "# Crear la gráfica de barras apiladas\n",
        "fig, ax = plt.subplots()\n",
        "\n",
        "# Definir la posición de las barras\n",
        "posiciones = np.arange(len(categorias))\n",
        "\n",
        "# Crear las barras apiladas\n",
        "barras = ax.bar(posiciones, valores, color=colores)\n",
        "\n",
        "# Cambiar el color de los ejes X e Y a gris\n",
        "ax.spines['bottom'].set_color('gray')\n",
        "ax.spines['left'].set_color('gray')\n",
        "\n",
        "# Etiquetas de las categorías\n",
        "ax.set_xticks(posiciones)\n",
        "ax.set_xticklabels(categorias)\n",
        "\n",
        "# Etiquetas de los números de las columnas\n",
        "for i, barra in enumerate(barras):\n",
        "    ax.annotate(str(valores[i]), xy=(barra.get_x() + barra.get_width() / 2, barra.get_height()),\n",
        "                xytext=(0, 3), textcoords=\"offset points\", ha='center', va='bottom')\n",
        "\n",
        "# Etiquetas de los ejes y título del gráfico\n",
        "ax.set_ylabel('Cantidad')\n",
        "ax.set_title('Métodos de conservación de los activos de información del ICBF', y=1.1)\n",
        "\n",
        "plt.savefig(\"..\\Visualizaciones\\Conservación_Pública.png\", dpi=300, bbox_inches='tight')\n",
        "\n",
        "# Mostrar el gráfico\n",
        "plt.show()\n"
      ]
    },
    {
      "cell_type": "markdown",
      "metadata": {},
      "source": [
        "# Conclusión\n",
        "\n",
        "De los 658 conjuntos de datos públicos, el 93.16% (613) cuenta con un método de conservación electrónico. Esta información clasificada como pública es especialmente susceptible de convertirse en datos abiertos, lo que permite un acceso más amplio y transparente a dicha información.\n",
        "\n",
        "El proceso de identificar los conjuntos de datos disponibles es el primer paso fundamental en un plan de datos abiertos que busca poner a disposición la información con la que cuenta el Instituto Colombiano de Bienestar Familiar (ICBF) a la ciudadanía.\n"
      ]
    }
  ],
  "metadata": {
    "colab": {
      "provenance": []
    },
    "kernelspec": {
      "display_name": "Python 3",
      "name": "python3"
    },
    "language_info": {
      "codemirror_mode": {
        "name": "ipython",
        "version": 3
      },
      "file_extension": ".py",
      "mimetype": "text/x-python",
      "name": "python",
      "nbconvert_exporter": "python",
      "pygments_lexer": "ipython3",
      "version": "3.11.4"
    }
  },
  "nbformat": 4,
  "nbformat_minor": 0
}
